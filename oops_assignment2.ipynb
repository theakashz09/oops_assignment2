{
 "cells": [
  {
   "cell_type": "raw",
   "id": "bedc14a4-dead-472f-97c9-b6eb3c6632c6",
   "metadata": {},
   "source": [
    "Q1. What is Abstraction in OOps? Explain with an example.\n",
    "\n",
    "Ans= In object oriented programming abstraction is the process of hiding unnecessary information and displaying only the necessary information to the user. Absraction makes things easier to use and simplifies the code. for example, when we drive a car we only focus on drive the car without worring about engine,transmission ,and elecrical system.\n",
    "Abstraction in oops improve the code reusability,maintanability. It also provide a clear and simple interface to the user, and increase security by preventing access tto internel class details."
   ]
  },
  {
   "cell_type": "raw",
   "id": "57ce2e64-ca9d-4813-9692-69e26398a8df",
   "metadata": {},
   "source": [
    "Q2. Differentiate between Abstraction and Encapsulation. Explain with an example.\n",
    "\n",
    "Ans= 1. Absraction - 1. It is the process of gaining information.\n",
    "                    2. The problem in this technique are solved at the interface level\n",
    "                    3. It helps hide the unwanted details and information\n",
    "                    4. Absraction is defind as aprocess of hiding the implementation details of a system from the user, by                            using abstraction we provide only the functionality of the system to the user .consequently the user                          will have information on what the system does ,but not on how the system does it.\n",
    "      \n",
    "      2. Encapsulation - 1.It is a method that helps wrap up data into a single module.\n",
    "                        2.Problem in encapsulation are solved at the implementation level.\n",
    "                        3. It helps data using a single entity or using a unit of help of method that help protect the                                    information.\n",
    "                       4.In encapsulation the variables of a class are hidden form other classes and can be accessed only by                            method of the current class ,encapsulation is also called data hiding . "
   ]
  },
  {
   "cell_type": "raw",
   "id": "bb8d9b75-9b65-4990-a62d-90169369fbf3",
   "metadata": {},
   "source": [
    "Q3. What is abc module in python? Why is it used?\n",
    "\n",
    "Ans= The ABC module in python provides the infrastructure for defining absract base classes. ABC are classes that are designed to be subclassed but not instantiated directly. They provide a way to define a common interface for a set of related classes, without having to specify the concrete implementation of that interface.\n",
    "ABC are useful for anumber of reasones. First they can help to ensure that subclasses implement a specific set of methods.\n",
    "this can help to avoid bugs and make class hierarchies easier to maintain. ABC can used to document the exepted behavior of a set of related classes.This can make it easier for devolopers to understand and use those classes.To create an ABC in Python, you need to use the abc.ABC class.This class provides a number of methods that can be used to define abstract methods and properties. Abstract methods are methods that must be implemented by subclasses"
   ]
  },
  {
   "cell_type": "raw",
   "id": "0d7d3168-dd54-498c-8920-318d81e7ee5d",
   "metadata": {},
   "source": [
    "Q4. How can we achieve data abstraction?\n",
    "\n",
    "Ans= Data abstraction in Python can be achieved through the use of abstract classes and interfaces."
   ]
  },
  {
   "cell_type": "raw",
   "id": "64b67b44-9918-4935-9f55-b0011e094d29",
   "metadata": {},
   "source": [
    "Q5. Can we create an instance of an abstract class? Explain your answer.\n",
    "\n",
    "Ans= No, we cannot create an instance of an abstract class in Python. This is because abstract classes are meant to be used as a blueprint for creating other classes, and they may have some methods that are not defined. If we try to instantiate an abstract class, it will raise a TypeError.\n",
    "To create an instance of an abstract class, we must first create a concrete subclass that implements all of the abstract methods of the abstract class. We can then instantiate the concrete subclass"
   ]
  }
 ],
 "metadata": {
  "kernelspec": {
   "display_name": "Python 3 (ipykernel)",
   "language": "python",
   "name": "python3"
  },
  "language_info": {
   "codemirror_mode": {
    "name": "ipython",
    "version": 3
   },
   "file_extension": ".py",
   "mimetype": "text/x-python",
   "name": "python",
   "nbconvert_exporter": "python",
   "pygments_lexer": "ipython3",
   "version": "3.10.8"
  }
 },
 "nbformat": 4,
 "nbformat_minor": 5
}
